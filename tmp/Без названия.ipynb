{
 "cells": [
  {
   "cell_type": "code",
   "execution_count": 14,
   "id": "fdb265e6-1ef4-4df9-97ae-3b5219609ab6",
   "metadata": {},
   "outputs": [],
   "source": [
    "from rich import print\n",
    "import uuid\n",
    "import json\n",
    "from pathlib import Path\n",
    "\n",
    "\n",
    "from collections.abc import Mapping"
   ]
  },
  {
   "cell_type": "code",
   "execution_count": 3,
   "id": "0f0e49f3-4157-4c3f-8444-625d300b31fb",
   "metadata": {},
   "outputs": [],
   "source": [
    "BASE_DIR = Path(\"/home/dodo/Projects/Experiments/flytrap\")\n",
    "SESSION_DIR = BASE_DIR / \"session\""
   ]
  },
  {
   "cell_type": "code",
   "execution_count": null,
   "id": "431879a7-f1ab-4cea-a012-36c755554e5d",
   "metadata": {},
   "outputs": [],
   "source": []
  },
  {
   "cell_type": "code",
   "execution_count": 4,
   "id": "3b268034-5e62-4073-9a71-e714b14dd3ad",
   "metadata": {},
   "outputs": [
    {
     "data": {
      "text/plain": [
       "PosixPath('/home/dodo/Projects/Experiments/flytrap/session')"
      ]
     },
     "execution_count": 4,
     "metadata": {},
     "output_type": "execute_result"
    }
   ],
   "source": [
    "SESSION_DIR"
   ]
  },
  {
   "cell_type": "code",
   "execution_count": 15,
   "id": "10ae84d1-46ea-44b2-98ce-14d479859610",
   "metadata": {},
   "outputs": [],
   "source": [
    "def nested_update(d, u):\n",
    "    for k, v in u.items():\n",
    "        if isinstance(v, Mapping):\n",
    "            d[k] = nested_update(d.get(k, {}), v)\n",
    "        else:\n",
    "            d[k] = v\n",
    "    return d\n",
    "\n",
    "def gen_session_id() -> str:\n",
    "    return str(uuid.uuid4()).replace(\"-\", \"\")"
   ]
  },
  {
   "cell_type": "code",
   "execution_count": 6,
   "id": "9b99577f-a825-41c5-9b7d-d24a74011b52",
   "metadata": {},
   "outputs": [
    {
     "data": {
      "text/plain": [
       "'515b7c4eeede476ebd427e6d531a305b'"
      ]
     },
     "execution_count": 6,
     "metadata": {},
     "output_type": "execute_result"
    }
   ],
   "source": [
    "session_id = gen_session_id()\n",
    "session_id"
   ]
  },
  {
   "cell_type": "code",
   "execution_count": null,
   "id": "901a6bb1-49f8-45b8-b654-142b510ea21f",
   "metadata": {},
   "outputs": [],
   "source": []
  },
  {
   "cell_type": "code",
   "execution_count": 7,
   "id": "cd3ed1d0-1e7b-4299-9a62-ee1a0b964113",
   "metadata": {},
   "outputs": [
    {
     "data": {
      "text/plain": [
       "PosixPath('/home/dodo/Projects/Experiments/flytrap/session/515b7c4eeede476ebd427e6d531a305b.json')"
      ]
     },
     "execution_count": 7,
     "metadata": {},
     "output_type": "execute_result"
    }
   ],
   "source": [
    "file = SESSION_DIR / f\"{session_id}.json\"\n",
    "file"
   ]
  },
  {
   "cell_type": "code",
   "execution_count": 8,
   "id": "c7e6d4a3-8ca3-47d6-8122-2901c7ac1627",
   "metadata": {},
   "outputs": [
    {
     "data": {
      "text/plain": [
       "False"
      ]
     },
     "execution_count": 8,
     "metadata": {},
     "output_type": "execute_result"
    }
   ],
   "source": [
    "file.exists()"
   ]
  },
  {
   "cell_type": "code",
   "execution_count": null,
   "id": "683f2dc6-17ce-4f9a-bc7a-0e03c44e0529",
   "metadata": {},
   "outputs": [],
   "source": []
  },
  {
   "cell_type": "code",
   "execution_count": null,
   "id": "ce7b1ac9-d681-4e10-a9c9-b3b99d91b0c5",
   "metadata": {},
   "outputs": [],
   "source": []
  },
  {
   "cell_type": "code",
   "execution_count": 9,
   "id": "2818b621-d2db-4624-9e4a-e33757f4c96c",
   "metadata": {},
   "outputs": [],
   "source": [
    "# "
   ]
  },
  {
   "cell_type": "code",
   "execution_count": 32,
   "id": "0adc8ed0-e9a0-48f4-b5e2-e3f82937f75f",
   "metadata": {},
   "outputs": [],
   "source": [
    "class SessionBD:\n",
    "\n",
    "    def _init_file(self):\n",
    "        if not SESSION_DIR.is_dir():\n",
    "            SESSION_DIR.mkdir()\n",
    "        self._file = SESSION_DIR / f\"{self._session_id}.json\"\n",
    "        if not self._file.exists():\n",
    "            self.set({})\n",
    "\n",
    "    def __init__(self, session_id: str):\n",
    "        self._session_id = session_id\n",
    "        self._init_file()\n",
    "\n",
    "    def update(self, data: dict):\n",
    "        d = self.get()\n",
    "        nested_update(d, data)\n",
    "        self.set(d)\n",
    "\n",
    "    def set(self, data):\n",
    "        with open(self._file, \"w\") as sf:\n",
    "            json.dump(\n",
    "                data,\n",
    "                sf,\n",
    "                ensure_ascii=False,\n",
    "                sort_keys=True,\n",
    "                indent=4\n",
    "            )\n",
    "\n",
    "    def get(self) -> dict:\n",
    "        data = dict()\n",
    "        with self._file.open(\"r\") as sf:\n",
    "            data = json.load(sf)\n",
    "        return data"
   ]
  },
  {
   "cell_type": "code",
   "execution_count": 33,
   "id": "22116bb9-2765-45dc-a4ed-b8965872d562",
   "metadata": {},
   "outputs": [],
   "source": [
    "session_id=\"032de068ff8f4e6f9252991112a9f9fc\""
   ]
  },
  {
   "cell_type": "code",
   "execution_count": 34,
   "id": "5504f1a9-116d-4438-b8f7-26e22f19b3ba",
   "metadata": {},
   "outputs": [],
   "source": [
    "self = SessionBD(session_id)"
   ]
  },
  {
   "cell_type": "code",
   "execution_count": 36,
   "id": "49e8ea3d-de6b-448b-b5e6-d98f8ab266ec",
   "metadata": {},
   "outputs": [
    {
     "data": {
      "text/html": [
       "<pre style=\"white-space:pre;overflow-x:auto;line-height:normal;font-family:Menlo,'DejaVu Sans Mono',consolas,'Courier New',monospace\"><span style=\"font-weight: bold\">[</span>\n",
       "    <span style=\"color: #008000; text-decoration-color: #008000\">'calculateCPUspeed'</span>,\n",
       "    <span style=\"color: #008000; text-decoration-color: #008000\">'detectGPU'</span>,\n",
       "    <span style=\"color: #008000; text-decoration-color: #008000\">'detectScreen'</span>,\n",
       "    <span style=\"color: #008000; text-decoration-color: #008000\">'getNavigatorData'</span>,\n",
       "    <span style=\"color: #008000; text-decoration-color: #008000\">'getNetworkInfo'</span>,\n",
       "    <span style=\"color: #008000; text-decoration-color: #008000\">'isMobileByScreen'</span>\n",
       "<span style=\"font-weight: bold\">]</span>\n",
       "</pre>\n"
      ],
      "text/plain": [
       "\u001b[1m[\u001b[0m\n",
       "    \u001b[32m'calculateCPUspeed'\u001b[0m,\n",
       "    \u001b[32m'detectGPU'\u001b[0m,\n",
       "    \u001b[32m'detectScreen'\u001b[0m,\n",
       "    \u001b[32m'getNavigatorData'\u001b[0m,\n",
       "    \u001b[32m'getNetworkInfo'\u001b[0m,\n",
       "    \u001b[32m'isMobileByScreen'\u001b[0m\n",
       "\u001b[1m]\u001b[0m\n"
      ]
     },
     "metadata": {},
     "output_type": "display_data"
    },
    {
     "data": {
      "text/html": [
       "<pre style=\"white-space:pre;overflow-x:auto;line-height:normal;font-family:Menlo,'DejaVu Sans Mono',consolas,'Courier New',monospace\"><span style=\"font-weight: bold\">[</span>\n",
       "    <span style=\"color: #008000; text-decoration-color: #008000\">'calculateCPUspeed'</span>,\n",
       "    <span style=\"color: #008000; text-decoration-color: #008000\">'detectGPU'</span>,\n",
       "    <span style=\"color: #008000; text-decoration-color: #008000\">'detectScreen'</span>,\n",
       "    <span style=\"color: #008000; text-decoration-color: #008000\">'getNavigatorData'</span>,\n",
       "    <span style=\"color: #008000; text-decoration-color: #008000\">'getNetworkInfo'</span>,\n",
       "    <span style=\"color: #008000; text-decoration-color: #008000\">'isMobileByScreen'</span>,\n",
       "    <span style=\"color: #008000; text-decoration-color: #008000\">'a'</span>\n",
       "<span style=\"font-weight: bold\">]</span>\n",
       "</pre>\n"
      ],
      "text/plain": [
       "\u001b[1m[\u001b[0m\n",
       "    \u001b[32m'calculateCPUspeed'\u001b[0m,\n",
       "    \u001b[32m'detectGPU'\u001b[0m,\n",
       "    \u001b[32m'detectScreen'\u001b[0m,\n",
       "    \u001b[32m'getNavigatorData'\u001b[0m,\n",
       "    \u001b[32m'getNetworkInfo'\u001b[0m,\n",
       "    \u001b[32m'isMobileByScreen'\u001b[0m,\n",
       "    \u001b[32m'a'\u001b[0m\n",
       "\u001b[1m]\u001b[0m\n"
      ]
     },
     "metadata": {},
     "output_type": "display_data"
    }
   ],
   "source": [
    "self.update({\"a\": 123})"
   ]
  },
  {
   "cell_type": "code",
   "execution_count": null,
   "id": "5f2be732-ccbc-4484-826d-262094a88673",
   "metadata": {},
   "outputs": [],
   "source": []
  },
  {
   "cell_type": "code",
   "execution_count": 35,
   "id": "c49db8b9-ec90-49da-966a-bc1905fea34e",
   "metadata": {},
   "outputs": [
    {
     "data": {
      "text/plain": [
       "{'calculateCPUspeed': {'estimated': 22.881, 'time': 0.059},\n",
       " 'detectGPU': {'RENDERER': 'WebKit',\n",
       "  'UNMASKED_RENDERER_WEBGL': 'ANGLE (AMD, AMD RENOIR (LLVM 13.0.1), OpenGL 4.6)',\n",
       "  'UNMASKED_VENDOR_WEBGL': 'Google Inc. (AMD)',\n",
       "  'VENDOR': 'WebKit',\n",
       "  'dbgRenderInfo': {},\n",
       "  'performance': {'navigation': {'redirectCount': 0, 'type': 1},\n",
       "   'timeOrigin': 1662482711314.3,\n",
       "   'timing': {'connectEnd': 1662482711315,\n",
       "    'connectStart': 1662482711315,\n",
       "    'domComplete': 0,\n",
       "    'domContentLoadedEventEnd': 0,\n",
       "    'domContentLoadedEventStart': 0,\n",
       "    'domInteractive': 0,\n",
       "    'domLoading': 1662482711363,\n",
       "    'domainLookupEnd': 1662482711315,\n",
       "    'domainLookupStart': 1662482711315,\n",
       "    'fetchStart': 1662482711315,\n",
       "    'loadEventEnd': 0,\n",
       "    'loadEventStart': 0,\n",
       "    'navigationStart': 1662482711314,\n",
       "    'redirectEnd': 0,\n",
       "    'redirectStart': 0,\n",
       "    'requestStart': 1662482711318,\n",
       "    'responseEnd': 1662482711351,\n",
       "    'responseStart': 1662482711350,\n",
       "    'secureConnectionStart': 0,\n",
       "    'unloadEventEnd': 1662482711360,\n",
       "    'unloadEventStart': 1662482711360}}},\n",
       " 'detectScreen': {'availHeight': 1080,\n",
       "  'availWidth': 1920,\n",
       "  'clientHeight': 0,\n",
       "  'clientWidth': 1869,\n",
       "  'height': 1080,\n",
       "  'innerHeight': 943,\n",
       "  'innerWidth': 1885,\n",
       "  'outerHeight': 1030,\n",
       "  'outerWidth': 1920,\n",
       "  'width': 1920},\n",
       " 'getNavigatorData': {'appCodeName': 'Mozilla',\n",
       "  'appName': 'Netscape',\n",
       "  'appVersion': '5.0 (X11; Linux x86_64) AppleWebKit/537.36 (KHTML, like Gecko) Chrome/102.0.5005.167 Safari/537.36',\n",
       "  'hardwareConcurrency': 12,\n",
       "  'javaEnabled': False,\n",
       "  'language': 'ru-RU',\n",
       "  'languages': ['ru-RU', 'ru', 'en-US', 'en'],\n",
       "  'maxTouchPoints': 0,\n",
       "  'onLine': True,\n",
       "  'pdfViewerEnabled': True,\n",
       "  'platform': 'Linux x86_64',\n",
       "  'product': 'Gecko',\n",
       "  'productSub': '20030107',\n",
       "  'userAgent': 'Mozilla/5.0 (X11; Linux x86_64) AppleWebKit/537.36 (KHTML, like Gecko) Chrome/102.0.5005.167 Safari/537.36',\n",
       "  'vendor': 'Google Inc.',\n",
       "  'vendorSub': '',\n",
       "  'webdriver': False},\n",
       " 'getNetworkInfo': {'downlink': 10,\n",
       "  'effectiveType': '4g',\n",
       "  'rtt': 50,\n",
       "  'saveData': False},\n",
       " 'isMobileByScreen': False}"
      ]
     },
     "execution_count": 35,
     "metadata": {},
     "output_type": "execute_result"
    }
   ],
   "source": [
    "self.get()"
   ]
  },
  {
   "cell_type": "code",
   "execution_count": null,
   "id": "2bef7172-5452-4d4c-8438-318322a29cb1",
   "metadata": {},
   "outputs": [],
   "source": []
  },
  {
   "cell_type": "code",
   "execution_count": null,
   "id": "8a3475d7-036d-4a80-acf5-146cfcb48756",
   "metadata": {},
   "outputs": [],
   "source": []
  },
  {
   "cell_type": "code",
   "execution_count": null,
   "id": "96d104ce-58d1-4976-9440-a77a9a817a6a",
   "metadata": {},
   "outputs": [],
   "source": []
  }
 ],
 "metadata": {
  "kernelspec": {
   "display_name": "Python 3 (ipykernel)",
   "language": "python",
   "name": "python3"
  },
  "language_info": {
   "codemirror_mode": {
    "name": "ipython",
    "version": 3
   },
   "file_extension": ".py",
   "mimetype": "text/x-python",
   "name": "python",
   "nbconvert_exporter": "python",
   "pygments_lexer": "ipython3",
   "version": "3.9.12"
  }
 },
 "nbformat": 4,
 "nbformat_minor": 5
}
